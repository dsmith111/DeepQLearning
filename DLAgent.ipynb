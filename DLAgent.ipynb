{
 "cells": [
  {
   "cell_type": "code",
   "execution_count": 1,
   "metadata": {},
   "outputs": [],
   "source": [
    "from keras.models import Sequential  \n",
    "from keras.layers import Dense, Flatten\n",
    "from collections import deque \n",
    "import numpy as np\n",
    "import gym \n",
    "env = gym.make('MountainCar-v0')  \n",
    "import random"
   ]
  },
  {
   "cell_type": "code",
   "execution_count": 129,
   "metadata": {},
   "outputs": [],
   "source": [
    "model = Sequential()\n",
    "model.add(Dense(20, input_shape=(2,) + env.observation_space.shape, kernel_initializer='uniform', activation='relu'))\n",
    "model.add(Flatten())       # Flatten input so as to have no problems with processing\n",
    "model.add(Dense(18, kernel_initializer='uniform', activation='relu'))\n",
    "model.add(Dense(10, kernel_initializer='uniform', activation='relu'))\n",
    "model.add(Dense(env.action_space.n, kernel_initializer='uniform', activation='linear'))\n",
    "model.compile(loss='mse', optimizer='adam', metrics=['accuracy'])"
   ]
  },
  {
   "cell_type": "code",
   "execution_count": 138,
   "metadata": {},
   "outputs": [],
   "source": [
    "D = deque()\n",
    "observetime = 800\n",
    "epsilon = 0.7\n",
    "gamma = 0.9\n",
    "mb_size = 50\n",
    "# Statistics to save\n",
    "timesFinished = 0\n",
    "rewardTrack =[]\n",
    "maxVel=0\n",
    "maxPos=0"
   ]
  },
  {
   "cell_type": "code",
   "execution_count": null,
   "metadata": {},
   "outputs": [
    {
     "name": "stdout",
     "output_type": "stream",
     "text": [
      "0.0%\n",
      "0.0\n",
      "29.0\n",
      "5.0%\n",
      "0.00034919327265968934\n",
      "0.001674608946931647\n",
      "0.0029953841940865964\n",
      "0.004307713068380155\n",
      "0.005607567897300936\n",
      "0.006890609530587354\n",
      "0.008152106781493931\n",
      "0.009386868239891752\n",
      "0.010589189832095629\n",
      "0.011752821634944297\n",
      "0.01287095745746447\n",
      "0.013936250513056034\n",
      "0.014940858050655828\n",
      "0.01587651703762543\n",
      "0.016734651855196778\n",
      "0.017506513478878997\n",
      "0.018183347817121685\n",
      "0.018756588871579594\n",
      "0.019218070316453853\n",
      "0.019560247174261726\n",
      "0.019776417720211596\n",
      "0.019860934804549302\n",
      "10.0%\n"
     ]
    }
   ],
   "source": [
    "observation = env.reset() \n",
    "obs = np.expand_dims(observation, axis=0) \n",
    "state = np.stack((obs, obs), axis=1)\n",
    "done = False\n",
    "maxReward = 0\n",
    "epochs = 9\n",
    "\n",
    "for epoch in range(epochs):\n",
    "    D = deque()\n",
    "    for t in range(observetime):\n",
    "        env.render()\n",
    "        if(((t/observetime)*100)%5 == 0):\n",
    "            print(\"{}%\".format(100*t/observetime))\n",
    "        if (t==observetime/2):\n",
    "            print(\"Half\")\n",
    "        if np.random.rand() <= epsilon:\n",
    "            action = np.random.randint(0, env.action_space.n, size=1)[0]\n",
    "#             epsilon*=0.95\n",
    "        else:\n",
    "            Q = model.predict(state)\n",
    "            action = np.argmax(Q)\n",
    "        observation_new, reward, done, info = env.step(action)\n",
    "\n",
    "        if max(abs(state[0][1])) > maxVel:\n",
    "    #         print(\"New Vel\")\n",
    "\n",
    "            maxVel = max(abs(state[0][1]))\n",
    "            print(maxVel)\n",
    "            reward += 10\n",
    "\n",
    "        if max(state[0][0]) > maxPos:\n",
    "    #         print(\"New Pos\")\n",
    "            reward += 30\n",
    "            maxPos = max(state[0][0])\n",
    "            print(maxPos)\n",
    "    #     print(reward) \n",
    "        if reward > maxReward:\n",
    "            print(reward)\n",
    "            maxReward = reward\n",
    "        obs_new = np.expand_dims(observation_new, axis=0)          \n",
    "        state_new = np.append(np.expand_dims(obs_new, axis=0), state[:, :1, :], axis=1)     \n",
    "        D.append((state, action, reward, state_new, done))         \n",
    "        state = state_new         \n",
    "        if done:\n",
    "    #         maxVel=0\n",
    "    #         maxPos=0\n",
    "            env.reset()           \n",
    "            obs = np.expand_dims(observation, axis=0)      \n",
    "            state = np.stack((obs, obs), axis=1)\n",
    "    print('Observing Finished')\n",
    "\n",
    "    # mb_size = 250\n",
    "\n",
    "    for iteration in range (3):\n",
    "        minibatch = random.sample(D, mb_size)                              \n",
    "        inputs_shape = (mb_size,) + state.shape[1:]\n",
    "        inputs = np.zeros(inputs_shape)\n",
    "        targets = np.zeros((mb_size, env.action_space.n))\n",
    "        print(iteration)\n",
    "        for i in range(0, mb_size):\n",
    "            if(((i/mb_size)*100)%50 == 0):\n",
    "                print(\"{}%\".format(100*i/mb_size))\n",
    "            state = minibatch[i][0]\n",
    "            action = minibatch[i][1]\n",
    "            reward = minibatch[i][2]\n",
    "            state_new = minibatch[i][3]\n",
    "            done = minibatch[i][4]\n",
    "            inputs[i:i+1] = np.expand_dims(state, axis=0)\n",
    "            targets[i] = model.predict(state)\n",
    "            Q_sa = model.predict(state_new)\n",
    "\n",
    "            if done:\n",
    "                targets[i, action] = reward\n",
    "            else:\n",
    "                targets[i, action] = reward + gamma * np.max(Q_sa)\n",
    "\n",
    "            model.train_on_batch(inputs, targets)\n",
    "    print('Learning Finished')"
   ]
  },
  {
   "cell_type": "code",
   "execution_count": 141,
   "metadata": {},
   "outputs": [
    {
     "name": "stdout",
     "output_type": "stream",
     "text": [
      "Game ended! Total reward: -200.0\n"
     ]
    }
   ],
   "source": [
    "observation = env.reset()\n",
    "obs = np.expand_dims(observation, axis=0)\n",
    "state = np.stack((obs, obs), axis=1)\n",
    "done = False\n",
    "tot_reward = 0.0\n",
    "while not done:\n",
    "    env.render()\n",
    "    Q = model.predict(state)        \n",
    "    action = np.argmax(Q)         \n",
    "    observation, reward, done, info = env.step(action)\n",
    "    obs = np.expand_dims(observation, axis=0)\n",
    "    state = np.append(np.expand_dims(obs, axis=0), state[:, :1, :], axis=1)    \n",
    "    tot_reward += reward\n",
    "    rewardTrack.append(tot_reward)\n",
    "print('Game ended! Total reward: {}'.format(tot_reward))"
   ]
  },
  {
   "cell_type": "code",
   "execution_count": 109,
   "metadata": {},
   "outputs": [],
   "source": [
    "env.close()"
   ]
  },
  {
   "cell_type": "code",
   "execution_count": 121,
   "metadata": {},
   "outputs": [
    {
     "data": {
      "image/png": "[encoded data removed]",
      "text/plain": [
       "<Figure size 432x288 with 1 Axes>"
      ]
     },
     "metadata": {
      "needs_background": "light"
     },
     "output_type": "display_data"
    }
   ],
   "source": [
    "import matplotlib.pyplot as plt\n",
    "plt.plot(range(len(rewardTrack)), rewardTrack)\n",
    "plt.show()"
   ]
  }
 ],
 "metadata": {
  "kernelspec": {
   "display_name": "Python 3",
   "language": "python",
   "name": "python3"
  },
  "language_info": {
   "codemirror_mode": {
    "name": "ipython",
    "version": 3
   },
   "file_extension": ".py",
   "mimetype": "text/x-python",
   "name": "python",
   "nbconvert_exporter": "python",
   "pygments_lexer": "ipython3",
   "version": "3.7.3"
  }
 },
 "nbformat": 4,
 "nbformat_minor": 2
}
